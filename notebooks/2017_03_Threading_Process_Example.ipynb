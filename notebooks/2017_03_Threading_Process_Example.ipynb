{
 "cells": [
  {
   "cell_type": "markdown",
   "metadata": {
    "collapsed": true
   },
   "source": [
    "Simple usage of Threads with Python"
   ]
  },
  {
   "cell_type": "markdown",
   "metadata": {},
   "source": [
    "We define a costly function that will be called from different ththreads :"
   ]
  },
  {
   "cell_type": "code",
   "execution_count": 1,
   "metadata": {
    "collapsed": true
   },
   "outputs": [],
   "source": [
    "K = 50\n",
    " \n",
    "def CostlyFunction(z):\n",
    "\tresult = 0\n",
    "\tfor k in range(1, K+2):\n",
    "\t\tresult += z ** (1 / k**1.5)\n",
    "\treturn result"
   ]
  },
  {
   "cell_type": "code",
   "execution_count": 2,
   "metadata": {
    "collapsed": true
   },
   "outputs": [],
   "source": [
    "import threading\n",
    " \n",
    "K = 50\n",
    " \n",
    "class CostlyThread(threading.Thread):\n",
    " \n",
    "\tdef __init__(self, value):\n",
    " \n",
    "\t\tthreading.Thread.__init__(self)\n",
    "\t\tself.value = value\n",
    " \n",
    "\tdef run(self):\n",
    "\t\t# notre fonction\n",
    "\t\tresult = 0\n",
    "\t\tz = self.value\n",
    "\t\tfor k in range(1, K+2):\n",
    "\t\t\tresult += z ** (1 / k**1.5)\n",
    "\t\tself.value = result"
   ]
  },
  {
   "cell_type": "code",
   "execution_count": 3,
   "metadata": {
    "collapsed": false
   },
   "outputs": [
    {
     "name": "stdout",
     "output_type": "stream",
     "text": [
      "10.021436214447021\n"
     ]
    }
   ],
   "source": [
    "import time\n",
    " \n",
    "# timer\n",
    "startTime = time.time()\n",
    " \n",
    "# va stocker les threads qu'on va lancer.\n",
    "threadList = []\n",
    " \n",
    "for i in range(100000) :\t# on lance cent milles threads\n",
    " \n",
    "\tcurThread = CostlyThread(i)\n",
    "\tcurThread.start()\t# on lance le thread\n",
    "\tthreadList.append(curThread)\t# on ajoute le thread a la list\n",
    " \n",
    "# maintenant qu'on a tout lance, on récupère tout!\n",
    "resultList = []\n",
    " \n",
    "for curThread in threadList :\n",
    " \n",
    "\tcurThread.join()\t# on attend que le thread ait fini\n",
    "\tresult = curThread.value\t# on récupère sa valeur\n",
    "\tresultList.append(result)\n",
    " \n",
    "print(time.time() - startTime)"
   ]
  },
  {
   "cell_type": "code",
   "execution_count": 4,
   "metadata": {
    "collapsed": false
   },
   "outputs": [
    {
     "name": "stdout",
     "output_type": "stream",
     "text": [
      "2.3470499515533447\n"
     ]
    }
   ],
   "source": [
    "import multiprocessing as mp\n",
    " \n",
    "# timer\n",
    "startTime = time.time()\n",
    " \n",
    "pool = mp.Pool()\n",
    "asyncResult = pool.map_async(CostlyFunction, range(100000))\t# on lance aussi cent milles operations\n",
    "pool.close()\n",
    "pool.join()\n",
    "resultList = asyncResult.get()\t# asyncResult.get() is a list of values\n",
    "print(time.time() - startTime)"
   ]
  },
  {
   "cell_type": "code",
   "execution_count": null,
   "metadata": {
    "collapsed": true
   },
   "outputs": [],
   "source": []
  }
 ],
 "metadata": {
  "kernelspec": {
   "display_name": "Python 3",
   "language": "python",
   "name": "python3"
  },
  "language_info": {
   "codemirror_mode": {
    "name": "ipython",
    "version": 3
   },
   "file_extension": ".py",
   "mimetype": "text/x-python",
   "name": "python",
   "nbconvert_exporter": "python",
   "pygments_lexer": "ipython3",
   "version": "3.6.0"
  }
 },
 "nbformat": 4,
 "nbformat_minor": 0
}
