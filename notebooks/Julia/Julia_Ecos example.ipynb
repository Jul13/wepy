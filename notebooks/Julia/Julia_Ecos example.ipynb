{
 "cells": [
  {
   "cell_type": "markdown",
   "metadata": {},
   "source": [
    "# Sample optimization script using Julia"
   ]
  },
  {
   "cell_type": "code",
   "execution_count": 1,
   "metadata": {
    "collapsed": false
   },
   "outputs": [
    {
     "name": "stdout",
     "output_type": "stream",
     "text": [
      "take: 1 dimensions:\n",
      "[  Gold] = 0.9999999995823805\n",
      "[Silver] = 0.46666666721774464\n",
      "[Bronze] = 0.9999999995191614\n",
      "\n",
      "ECOS 2.0.5 - (C) embotech GmbH, Zurich Switzerland, 2012-15. Web: www.embotech.com/ECOS\n",
      "\n",
      "It     pcost       dcost      gap   pres   dres    k/t    mu     step   sigma     IR    |   BT\n",
      " 0  -5.808e+00  -1.695e+01  +8e+00  5e-03  3e-01  1e+00  1e+00    ---    ---    1  1  - |  -  - \n",
      " 1  -7.021e+00  -8.183e+00  +9e-01  4e-04  4e-02  8e-02  1e-01  0.8975  1e-02   0  0  0 |  0  0\n",
      " 2  -7.342e+00  -7.486e+00  +1e-01  5e-05  5e-03  1e-02  2e-02  0.9055  3e-02   0  0  0 |  0  0\n",
      " 3  -7.399e+00  -7.401e+00  +2e-03  7e-07  6e-05  2e-04  2e-04  0.9867  6e-04   0  0  0 |  0  0\n",
      " 4  -7.400e+00  -7.400e+00  +2e-05  7e-09  7e-07  2e-06  2e-06  0.9890  1e-04   1  0  0 |  0  0\n",
      " 5  -7.400e+00  -7.400e+00  +2e-07  8e-11  8e-09  2e-08  3e-08  0.9890  1e-04   1  0  0 |  0  0\n",
      " 6  -7.400e+00  -7.400e+00  +2e-09  9e-13  9e-11  2e-10  3e-10  0.9890  1e-04   1  0  0 |  0  0\n",
      "\n",
      "OPTIMAL (within feastol=8.6e-11, reltol=2.8e-10, abstol=2.1e-09).\n",
      "Runtime: 0.000143 seconds.\n",
      "\n"
     ]
    }
   ],
   "source": [
    "# First we solve the knapsack problem using ECOS\n",
    "# see: https://www.embotech.com/ECOS/How-to-use/Julia\n",
    "#      https://github.com/JuliaOpt/ECOS.jl\n",
    "\n",
    "using JuMP # http://jump.readthedocs.io/en/latest/installation.html\n",
    "using ECOS\n",
    "\n",
    "items  = [:Gold, :Silver, :Bronze]\n",
    "values = Dict(:Gold => 5.0,  :Silver => 3.0,  :Bronze => 1.0)\n",
    "weight = Dict(:Gold => 2.0,  :Silver => 1.5,  :Bronze => 0.3)\n",
    "\n",
    "m = Model(solver=ECOSSolver())\n",
    "@variable(m, 0 <= take[items] <= 1)  # Define a variable for each item\n",
    "@objective(m, Max, sum( values[item] * take[item] for item in items))\n",
    "@constraint(m, sum( weight[item] * take[item] for item in items) <= 3)\n",
    "solve(m)\n",
    "\n",
    "println(getvalue(take))\n",
    "# take\n",
    "# [  Gold] = 0.9999999680446406\n",
    "# [Silver] = 0.46666670881026834\n",
    "# [Bronze] = 0.9999999633898735"
   ]
  },
  {
   "cell_type": "code",
   "execution_count": null,
   "metadata": {
    "collapsed": true
   },
   "outputs": [],
   "source": []
  }
 ],
 "metadata": {
  "kernelspec": {
   "display_name": "Julia 0.5.0",
   "language": "julia",
   "name": "julia-0.5"
  },
  "language_info": {
   "file_extension": ".jl",
   "mimetype": "application/julia",
   "name": "julia",
   "version": "0.5.0"
  }
 },
 "nbformat": 4,
 "nbformat_minor": 2
}
